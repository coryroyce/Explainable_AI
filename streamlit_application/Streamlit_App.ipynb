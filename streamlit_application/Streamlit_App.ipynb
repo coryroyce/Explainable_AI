{
  "nbformat": 4,
  "nbformat_minor": 0,
  "metadata": {
    "colab": {
      "name": "Streamlit_App.ipynb",
      "provenance": [],
      "collapsed_sections": [],
      "authorship_tag": "ABX9TyNgsYRgZfyCBIx8Eyhoectk",
      "include_colab_link": true
    },
    "kernelspec": {
      "name": "python3",
      "display_name": "Python 3"
    },
    "language_info": {
      "name": "python"
    }
  },
  "cells": [
    {
      "cell_type": "markdown",
      "metadata": {
        "id": "view-in-github",
        "colab_type": "text"
      },
      "source": [
        "<a href=\"https://colab.research.google.com/github/coryroyce/Explainable_AI/blob/main/streamlit_application/Streamlit_App.ipynb\" target=\"_parent\"><img src=\"https://colab.research.google.com/assets/colab-badge.svg\" alt=\"Open In Colab\"/></a>"
      ]
    },
    {
      "cell_type": "markdown",
      "metadata": {
        "id": "4X-J0Qe4zE4S"
      },
      "source": [
        "# Streamlit App - Letter Classification\n",
        "\n",
        "Updated: 12/7/2021"
      ]
    },
    {
      "cell_type": "markdown",
      "metadata": {
        "id": "h_wwtqVmFuC4"
      },
      "source": [
        "Goal: Create an app wrapper for the letter prediction model. "
      ]
    },
    {
      "cell_type": "markdown",
      "metadata": {
        "id": "dZhkwl-_GCoi"
      },
      "source": [
        "# Install Streamlit"
      ]
    },
    {
      "cell_type": "code",
      "metadata": {
        "id": "Jc8PDdp_FtIr"
      },
      "source": [
        "!pip install streamlit -q\n",
        "!pip install streamlit-drawable-canvas\n",
        "!pip install ipykernel>=5.1.2\n",
        "!pip install pydeck\n",
        "\n",
        "# Clear output for this cell\n",
        "from IPython.display import clear_output\n",
        "clear_output()"
      ],
      "execution_count": 2,
      "outputs": []
    },
    {
      "cell_type": "markdown",
      "metadata": {
        "id": "RQ5uvWHPklkC"
      },
      "source": [
        "Download Gihub repo to current Colab environment"
      ]
    },
    {
      "cell_type": "code",
      "metadata": {
        "colab": {
          "base_uri": "https://localhost:8080/"
        },
        "id": "1AHPjQPaW_5I",
        "outputId": "91400d10-82f6-4c11-8cab-4448bc510fc8"
      },
      "source": [
        "!git clone https://github.com/coryroyce/emnist_letter_exploration_and_prediction"
      ],
      "execution_count": 3,
      "outputs": [
        {
          "output_type": "stream",
          "name": "stdout",
          "text": [
            "Cloning into 'emnist_letter_exploration_and_prediction'...\n",
            "remote: Enumerating objects: 160, done.\u001b[K\n",
            "remote: Counting objects: 100% (160/160), done.\u001b[K\n",
            "remote: Compressing objects: 100% (102/102), done.\u001b[K\n",
            "remote: Total 160 (delta 71), reused 120 (delta 52), pack-reused 0\u001b[K\n",
            "Receiving objects: 100% (160/160), 17.73 MiB | 32.26 MiB/s, done.\n",
            "Resolving deltas: 100% (71/71), done.\n"
          ]
        }
      ]
    },
    {
      "cell_type": "markdown",
      "metadata": {
        "id": "LM7XTUlqk2Oa"
      },
      "source": [
        "Create a app.py file for sreamlit to run"
      ]
    },
    {
      "cell_type": "code",
      "metadata": {
        "colab": {
          "base_uri": "https://localhost:8080/"
        },
        "id": "fxaxZK7uTLIg",
        "outputId": "2d55c3c2-4551-403b-bbcc-571356451e6d"
      },
      "source": [
        "%%writefile app.py\n",
        "import streamlit as st\n",
        "from streamlit_drawable_canvas import st_canvas\n",
        "import tensorflow as tf\n",
        "from tensorflow import keras\n",
        "import cv2\n",
        "import numpy as np\n",
        "import pandas as pd\n",
        "import plotly.express as px\n",
        "\n",
        "\n",
        "# Cache model to load faster an only do it once rather than on every refresh\n",
        "@st.cache(allow_output_mutation = True)\n",
        "def load_models():\n",
        "  # Load in the pre-trained model\n",
        "  # model_file_path = '/content/emnist_letter_exploration_and_prediction/models/model_conv_v01.h5'\n",
        "  model_file_path = '/content/emnist_letter_exploration_and_prediction/models/model_conv_v02.h5'\n",
        "  model = tf.keras.models.load_model(model_file_path)\n",
        "  return model\n",
        "\n",
        "# Load the models\n",
        "model = load_models()\n",
        "\n",
        "# Define some valiables and helper functions\n",
        "labels_caps = [\n",
        "               'A','B','C','D','E','F','G','H','I','J','K','L','M','N','O','P','Q','R','S','T','U','V','W','X','Y','Z',\n",
        "              ]\n",
        "labels_dict_caps = {key: value for key, value in enumerate(labels_caps)}\n",
        "\n",
        "# Define the Plotyly function\n",
        "def create_probability_fig(model_prediction):\n",
        "    df_temp = pd.DataFrame(model_prediction, columns=labels_dict_caps.values())\n",
        "    df_temp = df_temp.transpose().reset_index()\n",
        "    df_temp.columns = ['Label','Probability']\n",
        "    fig = px.bar(df_temp, x='Label', y='Probability')\n",
        "    return fig\n",
        "\n",
        "\n",
        "# Create the Application\n",
        "st.title('Letter and Didgit Prediction')\n",
        "\n",
        "# Create a 2 column Streamlit layout\n",
        "col1, col2 = st.columns(2)\n",
        "\n",
        "with col1:\n",
        "  st.markdown('Draw a capital letter here:')\n",
        "  # Create a drawing canvas with desired properties\n",
        "  canvas_result = st_canvas(\n",
        "      fill_color=\"#ffffff\",\n",
        "      stroke_width=10,\n",
        "      stroke_color='#ffffff',\n",
        "      background_color=\"#000000\",\n",
        "      height=200,\n",
        "      width=200,\n",
        "      drawing_mode='freedraw',\n",
        "      key=\"canvas\",\n",
        "  )\n",
        "\n",
        "with col2:\n",
        "  # Show that the resized image looks like\n",
        "  st.markdown(\"What the model see's as input:\")\n",
        "  if canvas_result.image_data is not None:\n",
        "      img = cv2.resize(canvas_result.image_data.astype('uint8'), (28, 28))\n",
        "      img_rescaling = cv2.resize(img, (200, 200), interpolation=cv2.INTER_NEAREST)\n",
        "      st.image(img_rescaling)\n",
        "\n",
        "# Generate the prediciton based on the users drawings\n",
        "if st.button('Predict'):\n",
        "    x_user_input = cv2.cvtColor(img, cv2.COLOR_BGR2GRAY)\n",
        "    x_user_input = x_user_input.reshape(1, 28, 28, 1) / 255 # Reshape and normalize data\n",
        "    pred = model.predict(x_user_input)\n",
        "    pred_label = labels_dict_caps[pred.argmax()]\n",
        "    st.write(f'Predicted Label: {pred_label}')\n",
        "\n",
        "    # Create a plotly barchart of the predicted probablities\n",
        "    fig = create_probability_fig(pred)\n",
        "    st.plotly_chart(fig, use_container_width = True)\n"
      ],
      "execution_count": 15,
      "outputs": [
        {
          "output_type": "stream",
          "name": "stdout",
          "text": [
            "Overwriting app.py\n"
          ]
        }
      ]
    },
    {
      "cell_type": "markdown",
      "metadata": {
        "id": "7QUTYevkGKbQ"
      },
      "source": [
        "Load an example app for reference"
      ]
    },
    {
      "cell_type": "code",
      "metadata": {
        "id": "6nvz6riTqtS8"
      },
      "source": [
        "!streamlit run app.py & npx localtunnel --port 8501"
      ],
      "execution_count": null,
      "outputs": []
    },
    {
      "cell_type": "markdown",
      "metadata": {
        "id": "ylTQiQvnWGxQ"
      },
      "source": [
        "# Reference"
      ]
    },
    {
      "cell_type": "markdown",
      "metadata": {
        "id": "JibfVajkWJEM"
      },
      "source": [
        "Method for insering a Drawable Canvas and have that converted back to a python ML model was inspired by bhupendrak9917's notebook [Github](https://github.com/bhupendrak9917/My-AI-Projects/tree/main/MNIST_Streamlit)"
      ]
    }
  ]
}